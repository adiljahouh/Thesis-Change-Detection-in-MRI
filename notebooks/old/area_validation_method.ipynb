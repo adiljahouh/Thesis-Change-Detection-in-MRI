{
 "cells": [
  {
   "cell_type": "code",
   "execution_count": 4,
   "metadata": {},
   "outputs": [],
   "source": [
    "import numpy as np\n",
    "import torch.nn as nn\n",
    "import nibabel as nib"
   ]
  },
  {
   "cell_type": "code",
   "execution_count": 8,
   "metadata": {},
   "outputs": [
    {
     "name": "stdout",
     "output_type": "stream",
     "text": [
      "Values above 0 found in data\n"
     ]
    }
   ],
   "source": [
    "data = np.load('../data/2D/ReMIND-034_slice_coronal_110_tumor_label_0.npz')\n",
    "for key in data.files:\n",
    "    if np.any(data[key] > 0):\n",
    "        print(f\"Values above 0 found in {key}\")\n",
    "    else:\n",
    "        print(f\"No values above 0 in {key}\")"
   ]
  },
  {
   "cell_type": "code",
   "execution_count": 9,
   "metadata": {},
   "outputs": [
    {
     "data": {
      "image/png": "[encoded data removed]",
      "text/plain": [
       "<Figure size 640x480 with 2 Axes>"
      ]
     },
     "metadata": {},
     "output_type": "display_data"
    }
   ],
   "source": [
    "import matplotlib.pyplot as plt\n",
    "\n",
    "# Load the tumor data from the npz file\n",
    "tumor_data = data[key]\n",
    "\n",
    "# Plot the tumor data\n",
    "plt.imshow(tumor_data, cmap='gray')\n",
    "plt.title('Tumor Data Visualization')\n",
    "plt.colorbar()\n",
    "plt.show()"
   ]
  },
  {
   "cell_type": "code",
   "execution_count": 5,
   "metadata": {},
   "outputs": [],
   "source": [
    "mask_pre_nifti = nib.load('../data/raw/preop/BTC-preop/derivatives/tumor_masks/sub-PAT06/anat/sub-PAT06_space_T1_label-tumor.nii')\n",
    "head_pre_nifti = nib.load('../data/processed/preop/BTC-preop/sub-PAT06/t1_ants_aligned.nii.gz')\n",
    "mask_post_nifti = nib.load('../data/raw/postop/BTC-postop/derivatives/tumor_masks/sub-PAT06/anat/sub-PAT06_space_T1_label-tumor.nii')\n",
    "head_post_nifti = nib.load('../data/processed/postop/BTC-postop/sub-PAT06/t1_ants_aligned.nii.gz')"
   ]
  },
  {
   "cell_type": "code",
   "execution_count": null,
   "metadata": {},
   "outputs": [],
   "source": []
  },
  {
   "cell_type": "code",
   "execution_count": 2,
   "metadata": {},
   "outputs": [],
   "source": [
    "def evalExp(gtBin, cur_prob, thres, validMap = None, validArea=None):\n",
    "    '''\n",
    "    Does the basic pixel based evaluation!\n",
    "    :param gtBin: Boolean mask if the pixel is 1 = true in ground truth\n",
    "    :param cur_prob: the base feature map\n",
    "    :param thres: array going up to 1\n",
    "    :param validMap:\n",
    "    :param validArea: boolean mask where its not 255 = true\n",
    "    '''\n",
    "\n",
    "    assert len(cur_prob.shape) == 2, 'Wrong size of input prob map'\n",
    "    assert len(gtBin.shape) == 2, 'Wrong size of input prob map'\n",
    "    thresInf = np.concatenate(([-np.Inf], thres, [np.Inf]))\n",
    "    \n",
    "    #Merge validMap with validArea\n",
    "    if np.any(validMap)!=None:\n",
    "        if np.any(validArea)!=None:\n",
    "            validMap = (validMap == True) & (validArea == True)\n",
    "    elif np.any(validArea)!=None:\n",
    "        validMap=validArea\n",
    "\n",
    "    # histogram of false negatives\n",
    "    if np.any(validMap)!=None:\n",
    "        #valid_array = cur_prob[(validMap == False)]\n",
    "        fnArray = cur_prob[(gtBin == True) & (validMap == True)]\n",
    "    else:\n",
    "        fnArray = cur_prob[(gtBin == True)]\n",
    "    #f = np.histogram(fnArray,bins=thresInf)\n",
    "    fnHist = np.histogram(fnArray,bins=thresInf)[0]\n",
    "    fn_list = list(fnHist)\n",
    "    fn_sum = sum(fn_list[2:])\n",
    "    fnCum = np.cumsum(fnHist)\n",
    "    FN = fnCum[0:0+len(thres)];\n",
    "    \n",
    "    if validMap.any()!=None:\n",
    "        fpArray = cur_prob[(gtBin == False) & (validMap == True)]\n",
    "    else:\n",
    "        fpArray = cur_prob[(gtBin == False)]\n",
    "    \n",
    "    fpHist  = np.histogram(fpArray, bins=thresInf)[0]\n",
    "    fpCum = np.flipud(np.cumsum(np.flipud(fpHist)))\n",
    "    FP = fpCum[1:1+len(thres)]\n",
    "\n",
    "    # count labels and protos\n",
    "    #posNum = fnArray.shape[0]\n",
    "    #negNum = fpArray.shape[0]\n",
    "    if np.any(validMap)!=None:\n",
    "        posNum = np.sum((gtBin == True) & (validMap == True))\n",
    "        negNum = np.sum((gtBin == False) & (validMap == True))\n",
    "    else:\n",
    "        posNum = np.sum(gtBin == True)\n",
    "        negNum = np.sum(gtBin == False)\n",
    "    return FN, FP, posNum, negNum\n"
   ]
  },
  {
   "cell_type": "code",
   "execution_count": 3,
   "metadata": {},
   "outputs": [],
   "source": [
    "def eval_image_rewrite(gt_image, prob,cl_index):\n",
    "    \"\"\"\n",
    "        gt image is the ground truth image\n",
    "        prob is the binary image feature map\n",
    "        cl_index is set to 1?\n",
    "    \"\"\"\n",
    "    thresh = np.array(range(0, 256))/255.0 \n",
    "    cl_gt = gt_image[:,:] == cl_index ## Makes boolean map if the value is 1\n",
    "    valid_gt = gt_image[:,:] != 255 # makes boolean map if the value is not 255\n",
    "\n",
    "    FN, FP, posNum, negNum = evalExp(cl_gt, prob,\n",
    "                                     thresh, validMap=None,\n",
    "                                     validArea=valid_gt)\n",
    "    return FN, FP, posNum, negNum"
   ]
  },
  {
   "cell_type": "code",
   "execution_count": null,
   "metadata": {},
   "outputs": [],
   "source": []
  }
 ],
 "metadata": {
  "kernelspec": {
   "display_name": "Python 3",
   "language": "python",
   "name": "python3"
  },
  "language_info": {
   "codemirror_mode": {
    "name": "ipython",
    "version": 3
   },
   "file_extension": ".py",
   "mimetype": "text/x-python",
   "name": "python",
   "nbconvert_exporter": "python",
   "pygments_lexer": "ipython3",
   "version": "3.11.7"
  }
 },
 "nbformat": 4,
 "nbformat_minor": 2
}
