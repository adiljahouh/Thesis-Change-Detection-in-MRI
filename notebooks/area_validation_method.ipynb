{
 "cells": [
  {
   "cell_type": "code",
   "execution_count": null,
   "metadata": {},
   "outputs": [],
   "source": [
    "import numpy as np\n"
   ]
  },
  {
   "cell_type": "code",
   "execution_count": null,
   "metadata": {},
   "outputs": [],
   "source": [
    "def evalExp(gtBin, cur_prob, thres, validMap = None, validArea=None):\n",
    "    '''\n",
    "    Does the basic pixel based evaluation!\n",
    "    :param gtBin: Boolean mask if the pixel is 1 = true in ground truth\n",
    "    :param cur_prob: the base feature map\n",
    "    :param thres: array going up to 1\n",
    "    :param validMap:\n",
    "    :param validArea: boolean mask where its not 255 = true\n",
    "    '''\n",
    "\n",
    "    assert len(cur_prob.shape) == 2, 'Wrong size of input prob map'\n",
    "    assert len(gtBin.shape) == 2, 'Wrong size of input prob map'\n",
    "    thresInf = np.concatenate(([-np.Inf], thres, [np.Inf]))\n",
    "    \n",
    "    #Merge validMap with validArea\n",
    "    if np.any(validMap)!=None:\n",
    "        if np.any(validArea)!=None:\n",
    "            validMap = (validMap == True) & (validArea == True)\n",
    "    elif np.any(validArea)!=None:\n",
    "        validMap=validArea\n",
    "\n",
    "    # histogram of false negatives\n",
    "    if np.any(validMap)!=None:\n",
    "        #valid_array = cur_prob[(validMap == False)]\n",
    "        fnArray = cur_prob[(gtBin == True) & (validMap == True)]\n",
    "    else:\n",
    "        fnArray = cur_prob[(gtBin == True)]\n",
    "    #f = np.histogram(fnArray,bins=thresInf)\n",
    "    fnHist = np.histogram(fnArray,bins=thresInf)[0]\n",
    "    fn_list = list(fnHist)\n",
    "    fn_sum = sum(fn_list[2:])\n",
    "    fnCum = np.cumsum(fnHist)\n",
    "    FN = fnCum[0:0+len(thres)];\n",
    "    \n",
    "    if validMap.any()!=None:\n",
    "        fpArray = cur_prob[(gtBin == False) & (validMap == True)]\n",
    "    else:\n",
    "        fpArray = cur_prob[(gtBin == False)]\n",
    "    \n",
    "    fpHist  = np.histogram(fpArray, bins=thresInf)[0]\n",
    "    fpCum = np.flipud(np.cumsum(np.flipud(fpHist)))\n",
    "    FP = fpCum[1:1+len(thres)]\n",
    "\n",
    "    # count labels and protos\n",
    "    #posNum = fnArray.shape[0]\n",
    "    #negNum = fpArray.shape[0]\n",
    "    if np.any(validMap)!=None:\n",
    "        posNum = np.sum((gtBin == True) & (validMap == True))\n",
    "        negNum = np.sum((gtBin == False) & (validMap == True))\n",
    "    else:\n",
    "        posNum = np.sum(gtBin == True)\n",
    "        negNum = np.sum(gtBin == False)\n",
    "    return FN, FP, posNum, negNum\n"
   ]
  },
  {
   "cell_type": "code",
   "execution_count": null,
   "metadata": {},
   "outputs": [],
   "source": [
    "def eval_image_rewrite(gt_image, prob,cl_index):\n",
    "    \"\"\"\n",
    "        gt image is the ground truth image\n",
    "        prob is the binary image feature map\n",
    "        cl_index is set to 1?\n",
    "    \"\"\"\n",
    "    thresh = np.array(range(0, 256))/255.0 \n",
    "    cl_gt = gt_image[:,:] == cl_index ## Makes boolean map if the value is 1\n",
    "    valid_gt = gt_image[:,:] != 255 # makes boolean map if the value is not 255\n",
    "\n",
    "    FN, FP, posNum, negNum = evalExp(cl_gt, prob,\n",
    "                                     thresh, validMap=None,\n",
    "                                     validArea=valid_gt)\n",
    "    return FN, FP, posNum, negNum"
   ]
  }
 ],
 "metadata": {
  "kernelspec": {
   "display_name": "Python 3",
   "language": "python",
   "name": "python3"
  },
  "language_info": {
   "name": "python",
   "version": "3.11.7"
  }
 },
 "nbformat": 4,
 "nbformat_minor": 2
}
